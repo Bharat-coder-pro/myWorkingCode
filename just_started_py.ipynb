{
  "nbformat": 4,
  "nbformat_minor": 0,
  "metadata": {
    "colab": {
      "provenance": [],
      "toc_visible": true,
      "authorship_tag": "ABX9TyM1RKAVnNcBkTJJF8H05FpS",
      "include_colab_link": true
    },
    "kernelspec": {
      "name": "python3",
      "display_name": "Python 3"
    },
    "language_info": {
      "name": "python"
    }
  },
  "cells": [
    {
      "cell_type": "markdown",
      "metadata": {
        "id": "view-in-github",
        "colab_type": "text"
      },
      "source": [
        "<a href=\"https://colab.research.google.com/github/Bharat-coder-pro/myWorkingCode/blob/main/just_started_py.ipynb\" target=\"_parent\"><img src=\"https://colab.research.google.com/assets/colab-badge.svg\" alt=\"Open In Colab\"/></a>"
      ]
    },
    {
      "cell_type": "code",
      "execution_count": null,
      "metadata": {
        "colab": {
          "base_uri": "https://localhost:8080/"
        },
        "id": "aCCPp-y8hhoP",
        "outputId": "695c72a2-6809-46e3-cf89-7e40f70a1a5f"
      },
      "outputs": [
        {
          "output_type": "stream",
          "name": "stdout",
          "text": [
            "I am Bharat Yadav\n",
            "and I have just started programing in python.\n",
            "This is my first python program.\n"
          ]
        }
      ],
      "source": [
        "  print(\"\"\"I am Bharat Yadav\n",
        "and I have just started programing in python.\n",
        "This is my first python program.\"\"\")\n"
      ]
    },
    {
      "cell_type": "code",
      "source": [
        "#write a program to showcase a class and its object\n",
        "class Vehicle:\n",
        "  def __init__(self,name,s_no):\n",
        "    self.name=name\n",
        "    self.s_no=s_no\n",
        "  def getDetails():\n",
        "    name=input(\"enter name : \",ends=\"\")\n",
        "    s_no=int(input(\"enter no. \",ends=\"\"))\n",
        "\n",
        "v1=Vehicle(\"car\",2)\n",
        "\n",
        "print(v1.name)\n",
        "print(v1.s_no)\n"
      ],
      "metadata": {
        "colab": {
          "base_uri": "https://localhost:8080/"
        },
        "id": "jSjjOzqR7IJw",
        "outputId": "d9d8db4d-652c-4dc1-9774-a74826a77fb2"
      },
      "execution_count": null,
      "outputs": [
        {
          "output_type": "stream",
          "name": "stdout",
          "text": [
            "car\n",
            "2\n"
          ]
        }
      ]
    },
    {
      "cell_type": "code",
      "source": [
        "class Vehicle:\n",
        "  \n",
        "  def getDetails(self):\n",
        "    self.name=input(\"enter name : \")\n",
        "    self.s_no=int(input(\"enter no. \"))\n",
        "  def showDetails(self):\n",
        "    print(\"vehicle name: \",self.name,\"\\n\",\"car no_ : \",self.s_no)\n",
        "\n",
        "v1=Vehicle()\n",
        "v1.getDetails()\n",
        "v1.showDetails()\n"
      ],
      "metadata": {
        "colab": {
          "base_uri": "https://localhost:8080/"
        },
        "id": "l-WTfJdxCiOJ",
        "outputId": "65437abc-1d7b-4340-ecec-fda62b480302"
      },
      "execution_count": null,
      "outputs": [
        {
          "output_type": "stream",
          "name": "stdout",
          "text": [
            "enter name : Bharat Yadav\n",
            "enter no. 2\n",
            "vehicle name:  Bharat Yadav \n",
            " car no_ :  2\n"
          ]
        }
      ]
    },
    {
      "cell_type": "code",
      "source": [
        "l=int(input(\"enter length : \"))\n",
        "b=int(input(\"enter breadth : \"))\n",
        "a=l*b\n",
        "p=2*(l+b);\n",
        "print(\"area of rectangle having length \",l,\" cm and breadth \",b,\" cm is \",a,\" cm\")\n",
        "print(\"its parameter is \",p)"
      ],
      "metadata": {
        "colab": {
          "base_uri": "https://localhost:8080/"
        },
        "id": "pShbor4f_hWW",
        "outputId": "18f12b82-3cd0-4179-c829-401d41c9421a"
      },
      "execution_count": null,
      "outputs": [
        {
          "output_type": "stream",
          "name": "stdout",
          "text": [
            "enter length : 2\n",
            "enter breadth : 3\n",
            "area of rectangle having length  2  cm and breadth  3  cm is  6  cm\n",
            "its parameter is  10\n"
          ]
        }
      ]
    },
    {
      "cell_type": "code",
      "source": [
        "P=int(input(\"enter principle amount : \"))\n",
        "R=int(input(\"enter rate of interest : \"))\n",
        "t=int(input(\"enter time duration : \"))\n",
        "SI=(P*R*t)/100;\n",
        "print(\"calculated Simple Interest : \",SI)"
      ],
      "metadata": {
        "colab": {
          "base_uri": "https://localhost:8080/"
        },
        "id": "AA3CQQW3BZ77",
        "outputId": "9fc2b2d2-d5a6-41e6-f8e0-34bac86c3922"
      },
      "execution_count": null,
      "outputs": [
        {
          "output_type": "stream",
          "name": "stdout",
          "text": [
            "enter principle amount : 456\n",
            "enter rate of interest : 45\n",
            "enter time duration : 3\n",
            "calculated Simple Interest :  615.6\n"
          ]
        }
      ]
    },
    {
      "cell_type": "code",
      "source": [
        "#swaping of two no. using third variable\n",
        "\n",
        "a=int(input(\"enter a :- \"))\n",
        "b=int(input(\"enter b :- \"))\n",
        "c=0\n",
        "c=a\n",
        "a=b\n",
        "b=c\n",
        "print(\"after swappig \\n a : \",a,\" & b : \",b)"
      ],
      "metadata": {
        "colab": {
          "base_uri": "https://localhost:8080/"
        },
        "id": "x4LWlcL6CuWk",
        "outputId": "879d1a36-b3bd-4954-9783-64cfe5bfcafa"
      },
      "execution_count": null,
      "outputs": [
        {
          "output_type": "stream",
          "name": "stdout",
          "text": [
            "enter first no. :- 2\n",
            "enter second no. :- 3\n",
            "after swappig \n",
            " a :  3  & b :  2\n"
          ]
        }
      ]
    },
    {
      "cell_type": "code",
      "source": [
        "#operators\n",
        "a=5%10        #if first operaand is less than second then output will be second operand\n",
        "a\n",
        "a=10%5\n",
        "a\n",
        "a=10/5        # used for output as a float\n",
        "a\n",
        "a=10//5       # while give output as int\n",
        "a\n"
      ],
      "metadata": {
        "id": "2TDEvCR0IiIU",
        "colab": {
          "base_uri": "https://localhost:8080/"
        },
        "outputId": "4f8e8b6c-af05-4633-ebc3-dfcdfeb80dd2"
      },
      "execution_count": null,
      "outputs": [
        {
          "output_type": "execute_result",
          "data": {
            "text/plain": [
              "2"
            ]
          },
          "metadata": {},
          "execution_count": 5
        }
      ]
    },
    {
      "cell_type": "code",
      "source": [
        "# python program to  print last  digit of a number\n",
        "a=(int(input(\"enter number : \")))\n",
        "l=a%10\n",
        "print(\"last digit of entered number is : \",l)  "
      ],
      "metadata": {
        "colab": {
          "base_uri": "https://localhost:8080/"
        },
        "id": "K50NaozZ3JQY",
        "outputId": "3abfa301-dc2d-48b1-c329-2355ccddf6a9"
      },
      "execution_count": null,
      "outputs": [
        {
          "output_type": "stream",
          "name": "stdout",
          "text": [
            "enter number : 30\n",
            "last digit of entered number is :  0\n"
          ]
        }
      ]
    },
    {
      "cell_type": "code",
      "source": [
        "# a python proogrm to give uotput as decond last digit of a number\n",
        "a=int(input(\"enter numb : \"))\n",
        "ls=(a%100)//10\n",
        "print(\"last sec digit of nm is \",ls)  "
      ],
      "metadata": {
        "colab": {
          "base_uri": "https://localhost:8080/"
        },
        "id": "l0mbI-qW4ZYN",
        "outputId": "38635e0e-50b5-4c20-8ebf-4e29a19be8c1"
      },
      "execution_count": null,
      "outputs": [
        {
          "output_type": "stream",
          "name": "stdout",
          "text": [
            "enter numb : 1457\n",
            "last digit of nm is  5\n"
          ]
        }
      ]
    },
    {
      "cell_type": "code",
      "source": [
        "#python program to swap last two digit of any number\n",
        "a=int(input(\"enter number : \"))\n",
        "c=0\n",
        "l=a%10\n",
        "ls=a%100//10\n",
        "print(\"last digit and second last digit of the nummber is \",l,\" and \",ls)\n",
        "c=l\n",
        "l=ls\n",
        "ls=c\n",
        "print(\"after swapping digits : l=\",l,\"and ls : \",ls)\n",
        " "
      ],
      "metadata": {
        "colab": {
          "base_uri": "https://localhost:8080/"
        },
        "id": "dGPZ2--MFXXZ",
        "outputId": "f73959ba-c79e-4f2e-b2de-4a1712c1e88e"
      },
      "execution_count": null,
      "outputs": [
        {
          "output_type": "stream",
          "name": "stdout",
          "text": [
            "enter number : 45678\n",
            "last digit and second last digit of the nummber is  8  and  7\n",
            "after swapping digits : l= 7 and ls :  8\n"
          ]
        }
      ]
    },
    {
      "cell_type": "code",
      "source": [
        "# relational operators\n",
        "a=int(input(\"enter first number : \"))\n",
        "b=int(input(\"enter second number : \"))\n",
        "c=a>b\n",
        "d=a<b\n",
        "e=a<b or b<a\n",
        "f=a<b and b<a\n",
        "g=not(a<b)\n",
        "print(\"e f c d g\",e,f,c,d,g )\n"
      ],
      "metadata": {
        "colab": {
          "base_uri": "https://localhost:8080/"
        },
        "id": "BBxwONcwVe_r",
        "outputId": "7661a727-a77f-4766-91bd-2ce86739088e"
      },
      "execution_count": null,
      "outputs": [
        {
          "output_type": "stream",
          "name": "stdout",
          "text": [
            "enter first number : 5\n",
            "enter second number : 6\n",
            "e f c d g True False False True False\n"
          ]
        }
      ]
    },
    {
      "cell_type": "code",
      "source": [
        "# making a rogram which convert decimal no. to binary no.\n",
        "n=int(input(\"enter number : \"))\n",
        "0"
      ],
      "metadata": {
        "id": "fNtdXYZPkuhq"
      },
      "execution_count": null,
      "outputs": []
    },
    {
      "cell_type": "code",
      "source": [
        "a=23           # id() function gives out memory location of the variable\n",
        "b=24\n",
        "print(\"memory location of a: \",id(a),\"\\nmemory of laocation of b : \",id(b))"
      ],
      "metadata": {
        "colab": {
          "base_uri": "https://localhost:8080/"
        },
        "id": "x4kPkhU4mFKI",
        "outputId": "b22f7867-740d-4942-8d80-95f3cad675d2"
      },
      "execution_count": null,
      "outputs": [
        {
          "output_type": "stream",
          "name": "stdout",
          "text": [
            "memory location of a:  11127392 \n",
            "memory of laocation of b :  11127424\n"
          ]
        }
      ]
    },
    {
      "cell_type": "code",
      "source": [
        "# identity  operator and membership operators is,is not,in,not in respectively\n",
        "m=76\n",
        "n=67\n",
        "print(m is n ,\"\\n\",m is not n)\n",
        "name=str(input(\"your name : \"))\n",
        "print(\"Yadav\" in name,\"\\n\",\"abc\" not in name)"
      ],
      "metadata": {
        "colab": {
          "base_uri": "https://localhost:8080/"
        },
        "id": "s3XaODkZutGT",
        "outputId": "2d30041d-2b62-4797-fa98-d5465b6a6859"
      },
      "execution_count": null,
      "outputs": [
        {
          "output_type": "stream",
          "name": "stdout",
          "text": [
            "False \n",
            " True\n",
            "your name : Bharat Yadav\n",
            "True \n",
            " True\n"
          ]
        }
      ]
    },
    {
      "cell_type": "code",
      "source": [
        "# even odd finder using ef-else statement .\n",
        "a=int(input(\"enter a number : \"))\n",
        "if a%2==0 :\n",
        "  print(a,\" is even.\\n\")\n",
        "else :\n",
        "  print(a,\" is odd.\")"
      ],
      "metadata": {
        "colab": {
          "base_uri": "https://localhost:8080/"
        },
        "id": "ImLLS3Knx_ht",
        "outputId": "1a9b500f-8a40-484b-b6cd-c063455eefc7"
      },
      "execution_count": null,
      "outputs": [
        {
          "output_type": "stream",
          "name": "stdout",
          "text": [
            "enter a number : 45\n",
            "45  is odd.\n"
          ]
        }
      ]
    },
    {
      "cell_type": "code",
      "source": [
        "a=input(\"enter a alphabate : \")\n",
        "if a==a or a==e or a==i or a==o or a==u :\n",
        "  print(a,\" is vowel.\")\n",
        "\n",
        "else :\n",
        "  print(a,\" is consonant.\")\n"
      ],
      "metadata": {
        "colab": {
          "base_uri": "https://localhost:8080/"
        },
        "id": "PPm39IYCzgzg",
        "outputId": "1eb79a9a-c35c-4c7f-a8b5-7868c4052028"
      },
      "execution_count": null,
      "outputs": [
        {
          "output_type": "stream",
          "name": "stdout",
          "text": [
            "enter a alphabate : n\n",
            "n  is vowel.\n"
          ]
        }
      ]
    },
    {
      "cell_type": "code",
      "source": [
        "# check wether the character is in upper case or lower case \n",
        "a=input(\"entr a character : \")\n",
        "if a>='A' or a<=Z :\n",
        "  print(a,\" is in upper-case.\")\n",
        "else :\n",
        "  print(a,\" in lower-case.\")"
      ],
      "metadata": {
        "colab": {
          "base_uri": "https://localhost:8080/",
          "height": 252
        },
        "id": "LQkZmyQr2Z5w",
        "outputId": "4bddee6e-ca73-4f3a-8f5f-268c4f0c7aaa"
      },
      "execution_count": null,
      "outputs": [
        {
          "name": "stdout",
          "output_type": "stream",
          "text": [
            "entr a character : 33\n"
          ]
        },
        {
          "output_type": "error",
          "ename": "NameError",
          "evalue": "ignored",
          "traceback": [
            "\u001b[0;31m---------------------------------------------------------------------------\u001b[0m",
            "\u001b[0;31mNameError\u001b[0m                                 Traceback (most recent call last)",
            "\u001b[0;32m<ipython-input-1-4f5591afa88c>\u001b[0m in \u001b[0;36m<module>\u001b[0;34m\u001b[0m\n\u001b[1;32m      1\u001b[0m \u001b[0;31m# check wether the character is in upper case or lower case\u001b[0m\u001b[0;34m\u001b[0m\u001b[0;34m\u001b[0m\u001b[0;34m\u001b[0m\u001b[0m\n\u001b[1;32m      2\u001b[0m \u001b[0ma\u001b[0m\u001b[0;34m=\u001b[0m\u001b[0minput\u001b[0m\u001b[0;34m(\u001b[0m\u001b[0;34m\"entr a character : \"\u001b[0m\u001b[0;34m)\u001b[0m\u001b[0;34m\u001b[0m\u001b[0;34m\u001b[0m\u001b[0m\n\u001b[0;32m----> 3\u001b[0;31m \u001b[0;32mif\u001b[0m \u001b[0ma\u001b[0m\u001b[0;34m>=\u001b[0m\u001b[0;34m'A'\u001b[0m \u001b[0;32mor\u001b[0m \u001b[0ma\u001b[0m\u001b[0;34m<=\u001b[0m\u001b[0mZ\u001b[0m \u001b[0;34m:\u001b[0m\u001b[0;34m\u001b[0m\u001b[0;34m\u001b[0m\u001b[0m\n\u001b[0m\u001b[1;32m      4\u001b[0m   \u001b[0mprint\u001b[0m\u001b[0;34m(\u001b[0m\u001b[0ma\u001b[0m\u001b[0;34m,\u001b[0m\u001b[0;34m\" is in upper-case.\"\u001b[0m\u001b[0;34m)\u001b[0m\u001b[0;34m\u001b[0m\u001b[0;34m\u001b[0m\u001b[0m\n\u001b[1;32m      5\u001b[0m \u001b[0;32melse\u001b[0m \u001b[0;34m:\u001b[0m\u001b[0;34m\u001b[0m\u001b[0;34m\u001b[0m\u001b[0m\n",
            "\u001b[0;31mNameError\u001b[0m: name 'Z' is not defined"
          ]
        }
      ]
    },
    {
      "cell_type": "code",
      "source": [
        "l1=[23,\"fjo\",98,\"lod\",1,2,3]"
      ],
      "metadata": {
        "id": "NP6Mg-xAvVzu"
      },
      "execution_count": null,
      "outputs": []
    },
    {
      "cell_type": "code",
      "source": [],
      "metadata": {
        "id": "fWRjiC9XlZWA"
      },
      "execution_count": null,
      "outputs": []
    }
  ]
}